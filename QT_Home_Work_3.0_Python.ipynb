{
 "cells": [
  {
   "cell_type": "markdown",
   "id": "04602cb4",
   "metadata": {},
   "source": [
    "1. What is the output of"
   ]
  },
  {
   "cell_type": "code",
   "execution_count": 1,
   "id": "fb0fc84e",
   "metadata": {},
   "outputs": [
    {
     "name": "stdout",
     "output_type": "stream",
     "text": [
      "512\n"
     ]
    }
   ],
   "source": [
    "print(2**3**2)"
   ]
  },
  {
   "cell_type": "markdown",
   "id": "b56029d6",
   "metadata": {},
   "source": [
    "2. what is the out of "
   ]
  },
  {
   "cell_type": "code",
   "execution_count": 2,
   "id": "e2cd141b",
   "metadata": {},
   "outputs": [
    {
     "name": "stdout",
     "output_type": "stream",
     "text": [
      "216\n"
     ]
    }
   ],
   "source": [
    "print(2*3**3*4)"
   ]
  },
  {
   "cell_type": "markdown",
   "id": "5dc00880",
   "metadata": {},
   "source": [
    "3. what is the output of"
   ]
  },
  {
   "cell_type": "code",
   "execution_count": 3,
   "id": "9414592a",
   "metadata": {},
   "outputs": [
    {
     "name": "stdout",
     "output_type": "stream",
     "text": [
      "2\n"
     ]
    }
   ],
   "source": [
    "print(10-4*2)"
   ]
  },
  {
   "cell_type": "markdown",
   "id": "16e1d4d1",
   "metadata": {},
   "source": [
    "4. what is the output of the expression"
   ]
  },
  {
   "cell_type": "code",
   "execution_count": 4,
   "id": "db9d1df8",
   "metadata": {},
   "outputs": [
    {
     "name": "stdout",
     "output_type": "stream",
     "text": [
      "-5\n"
     ]
    }
   ],
   "source": [
    "print(-18//4)"
   ]
  },
  {
   "cell_type": "markdown",
   "id": "30f3780b",
   "metadata": {},
   "source": [
    "5. what is the output of the expression"
   ]
  },
  {
   "cell_type": "code",
   "execution_count": 5,
   "id": "eb9b0480",
   "metadata": {},
   "outputs": [
    {
     "name": "stdout",
     "output_type": "stream",
     "text": [
      "2\n"
     ]
    }
   ],
   "source": [
    "print(2%6)"
   ]
  },
  {
   "cell_type": "markdown",
   "id": "d73eee18",
   "metadata": {},
   "source": [
    "6. what is the ouput of the following code"
   ]
  },
  {
   "cell_type": "code",
   "execution_count": 6,
   "id": "9b7c1efc",
   "metadata": {},
   "outputs": [
    {
     "name": "stdout",
     "output_type": "stream",
     "text": [
      "50\n"
     ]
    }
   ],
   "source": [
    "x= 100\n",
    "y =50\n",
    "print(x and y)"
   ]
  },
  {
   "cell_type": "markdown",
   "id": "17d48e72",
   "metadata": {},
   "source": [
    "7. what is the value of the following python expression "
   ]
  },
  {
   "cell_type": "code",
   "execution_count": 7,
   "id": "330fc7cd",
   "metadata": {},
   "outputs": [
    {
     "name": "stdout",
     "output_type": "stream",
     "text": [
      "9.0\n"
     ]
    }
   ],
   "source": [
    "print(36/4)"
   ]
  },
  {
   "cell_type": "markdown",
   "id": "fb837fe0",
   "metadata": {},
   "source": [
    "8. what is the output of the following code"
   ]
  },
  {
   "cell_type": "code",
   "execution_count": 8,
   "id": "9486ec25",
   "metadata": {},
   "outputs": [
    {
     "ename": "TypeError",
     "evalue": "unsupported operand type(s) for +: 'int' and 'str'",
     "output_type": "error",
     "traceback": [
      "\u001b[1;31m---------------------------------------------------------------------------\u001b[0m",
      "\u001b[1;31mTypeError\u001b[0m                                 Traceback (most recent call last)",
      "Cell \u001b[1;32mIn[8], line 5\u001b[0m\n\u001b[0;32m      2\u001b[0m var2 \u001b[38;5;241m=\u001b[39m \u001b[38;5;241m2\u001b[39m\n\u001b[0;32m      3\u001b[0m var3 \u001b[38;5;241m=\u001b[39m \u001b[38;5;124m\"\u001b[39m\u001b[38;5;124m3\u001b[39m\u001b[38;5;124m\"\u001b[39m\n\u001b[1;32m----> 5\u001b[0m \u001b[38;5;28mprint\u001b[39m(var1 \u001b[38;5;241m+\u001b[39m var2 \u001b[38;5;241m+\u001b[39m var3)\n",
      "\u001b[1;31mTypeError\u001b[0m: unsupported operand type(s) for +: 'int' and 'str'"
     ]
    }
   ],
   "source": [
    "var1 = 1\n",
    "var2 = 2\n",
    "var3 = \"3\"\n",
    "\n",
    "print(var1 + var2 + var3)"
   ]
  },
  {
   "cell_type": "markdown",
   "id": "3fff2349",
   "metadata": {},
   "source": [
    "9. what is the out put of the following code"
   ]
  },
  {
   "cell_type": "code",
   "execution_count": 9,
   "id": "5e5c8b48",
   "metadata": {},
   "outputs": [
    {
     "name": "stdout",
     "output_type": "stream",
     "text": [
      "10 20 30\n"
     ]
    }
   ],
   "source": [
    "p,q,r = 10,20,30\n",
    "print(p,q,r)"
   ]
  },
  {
   "cell_type": "markdown",
   "id": "5b7df2fe",
   "metadata": {},
   "source": [
    "10. what is the output of the following code"
   ]
  },
  {
   "cell_type": "code",
   "execution_count": 10,
   "id": "1754beac",
   "metadata": {},
   "outputs": [
    {
     "name": "stdout",
     "output_type": "stream",
     "text": [
      "25\n",
      "125\n"
     ]
    }
   ],
   "source": [
    "valueone = 5**2\n",
    "valuetwo = 5**3\n",
    "print(valueone)\n",
    "print(valuetwo)"
   ]
  },
  {
   "cell_type": "markdown",
   "id": "6713cadd",
   "metadata": {},
   "source": [
    "11. what is the output of the following code"
   ]
  },
  {
   "cell_type": "code",
   "execution_count": 12,
   "id": "7b969945",
   "metadata": {},
   "outputs": [
    {
     "name": "stdout",
     "output_type": "stream",
     "text": [
      "jamesjamesjamesjamesjamesjames\n"
     ]
    }
   ],
   "source": [
    "var = \"james\"*2*3\n",
    "print(var)"
   ]
  },
  {
   "cell_type": "markdown",
   "id": "2e92c3ea",
   "metadata": {},
   "source": [
    "12. what is the output of the following code"
   ]
  },
  {
   "cell_type": "code",
   "execution_count": 13,
   "id": "a15b32ae",
   "metadata": {},
   "outputs": [
    {
     "name": "stdout",
     "output_type": "stream",
     "text": [
      "117.0\n"
     ]
    }
   ],
   "source": [
    "x = 36/4*(3+2*4+2)\n",
    "print(x)"
   ]
  },
  {
   "cell_type": "markdown",
   "id": "f94c4b2f",
   "metadata": {},
   "source": [
    "13. what is the data type of"
   ]
  },
  {
   "cell_type": "code",
   "execution_count": 15,
   "id": "69f6b0e7",
   "metadata": {},
   "outputs": [
    {
     "name": "stdout",
     "output_type": "stream",
     "text": [
      "<class 'int'>\n"
     ]
    }
   ],
   "source": [
    "print(type(10))"
   ]
  },
  {
   "cell_type": "markdown",
   "id": "1f3e761c",
   "metadata": {},
   "source": [
    "14.. Creating an int variable, float variable, string variable and assign the \n",
    "values to the above three variable names. "
   ]
  },
  {
   "cell_type": "code",
   "execution_count": 17,
   "id": "011edbf1",
   "metadata": {},
   "outputs": [
    {
     "name": "stdout",
     "output_type": "stream",
     "text": [
      "10\n",
      "10.5\n",
      "srinu\n"
     ]
    }
   ],
   "source": [
    "a = 10\n",
    "b = 10.5\n",
    "c = \"srinu\"\n",
    "print(a)\n",
    "print(b)\n",
    "print(c)"
   ]
  },
  {
   "cell_type": "markdown",
   "id": "e130eaaf",
   "metadata": {},
   "source": [
    "15.  Create Integer number "
   ]
  },
  {
   "cell_type": "code",
   "execution_count": 20,
   "id": "7ef843da",
   "metadata": {},
   "outputs": [
    {
     "name": "stdout",
     "output_type": "stream",
     "text": [
      "<class 'int'>\n",
      "<class 'int'>\n"
     ]
    }
   ],
   "source": [
    "roll_number = 33\n",
    "print(type(roll_number))\n",
    "roll_number02 = 25\n",
    "print(type(roll_number02))"
   ]
  },
  {
   "cell_type": "code",
   "execution_count": null,
   "id": "d5dd23f1",
   "metadata": {},
   "outputs": [],
   "source": []
  }
 ],
 "metadata": {
  "kernelspec": {
   "display_name": "base",
   "language": "python",
   "name": "python3"
  },
  "language_info": {
   "codemirror_mode": {
    "name": "ipython",
    "version": 3
   },
   "file_extension": ".py",
   "mimetype": "text/x-python",
   "name": "python",
   "nbconvert_exporter": "python",
   "pygments_lexer": "ipython3",
   "version": "3.13.5"
  }
 },
 "nbformat": 4,
 "nbformat_minor": 5
}
