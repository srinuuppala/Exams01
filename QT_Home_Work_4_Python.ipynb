{
 "cells": [
  {
   "cell_type": "markdown",
   "id": "5867d274",
   "metadata": {},
   "source": [
    "1. Python Swapping means interchanging the values of two variables.  \n",
    "Eg: - if x is 10 and y is 5 then after swapping x will be 5 and y will be 10. "
   ]
  },
  {
   "cell_type": "code",
   "execution_count": 1,
   "id": "bffa6e2e",
   "metadata": {},
   "outputs": [
    {
     "name": "stdout",
     "output_type": "stream",
     "text": [
      "5 10\n"
     ]
    }
   ],
   "source": [
    "x = 10\n",
    "y = 5\n",
    "x, y = y, x\n",
    "print(x, y)   # Output: 5 10"
   ]
  },
  {
   "cell_type": "markdown",
   "id": "63cb268e",
   "metadata": {},
   "source": [
    "2. Numbers consist of all the numeric values. Numbers in Python are \n",
    "classified into the following data types. \n",
    "- ❖ int - Integers don’t have decimal and can have any length as long as the \n",
    "required memory is available. For example, 3, 855, etc. \n",
    "- ❖ float - Floating point numbers are the ones having decimal. For example, \n",
    "2.564728. \n",
    "- ❖ complex - Complex numbers, as in Mathematics, have the form a + bj, \n",
    "where a is the real part and b is the imaginary part. For example, 2 + 3j, 6j. "
   ]
  },
  {
   "cell_type": "code",
   "execution_count": null,
   "id": "5c957379",
   "metadata": {},
   "outputs": [],
   "source": [
    "\"\"\" \n",
    "int → whole numbers (no decimal). Example: 3, 855, -20.\n",
    "\n",
    "float → decimal numbers. Example: 2.56, -3.14.\n",
    "\n",
    "complex → a + bj. Example: 2+3j, 6j.\n",
    "\"\"\""
   ]
  },
  {
   "cell_type": "markdown",
   "id": "1e7448cb",
   "metadata": {},
   "source": [
    "3. What is the output of the following code? \n",
    "- x = 6  \n",
    "- y = 2 \n",
    "- print(x ** y)  \n",
    "- print(x // y) "
   ]
  },
  {
   "cell_type": "code",
   "execution_count": 2,
   "id": "00041ea6",
   "metadata": {},
   "outputs": [
    {
     "name": "stdout",
     "output_type": "stream",
     "text": [
      "36\n",
      "3\n"
     ]
    }
   ],
   "source": [
    "x = 6  \n",
    "y = 2 \n",
    "print(x ** y)  \n",
    "print(x // y) "
   ]
  },
  {
   "cell_type": "markdown",
   "id": "feab4b68",
   "metadata": {},
   "source": [
    "4. 4 is 100 in binary and 11 is 1011. What is the output of the following \n",
    "bitwise operators? \n",
    "- a = 4  \n",
    "- b = 11  \n",
    "- print(a | b) print(a >> 2) "
   ]
  },
  {
   "cell_type": "code",
   "execution_count": 4,
   "id": "8aeafe1a",
   "metadata": {},
   "outputs": [
    {
     "name": "stdout",
     "output_type": "stream",
     "text": [
      "15\n",
      "1\n"
     ]
    }
   ],
   "source": [
    "a = 4  \n",
    "b = 11  \n",
    "print(a | b) \n",
    "print(a >> 2) "
   ]
  },
  {
   "cell_type": "markdown",
   "id": "6e222192",
   "metadata": {},
   "source": [
    "5. What is the output of the following assignment operator? \n",
    "- y = 10  \n",
    "- x = y += 2  \n",
    "- print(x) "
   ]
  },
  {
   "cell_type": "code",
   "execution_count": 5,
   "id": "b8beb0fd",
   "metadata": {},
   "outputs": [
    {
     "ename": "SyntaxError",
     "evalue": "invalid syntax (2405955996.py, line 2)",
     "output_type": "error",
     "traceback": [
      "\u001b[1;36m  Cell \u001b[1;32mIn[5], line 2\u001b[1;36m\u001b[0m\n\u001b[1;33m    x = y += 2\u001b[0m\n\u001b[1;37m          ^\u001b[0m\n\u001b[1;31mSyntaxError\u001b[0m\u001b[1;31m:\u001b[0m invalid syntax\n"
     ]
    }
   ],
   "source": [
    "y = 10  \n",
    "x = y += 2  \n",
    "print(x) "
   ]
  },
  {
   "cell_type": "markdown",
   "id": "065dbe09",
   "metadata": {},
   "source": [
    "6. What is the output of print(2 * 3 ** 3 * 4)? "
   ]
  },
  {
   "cell_type": "code",
   "execution_count": 6,
   "id": "c6e8131b",
   "metadata": {},
   "outputs": [
    {
     "name": "stdout",
     "output_type": "stream",
     "text": [
      "216\n"
     ]
    }
   ],
   "source": [
    "print(2*3**3*4)"
   ]
  },
  {
   "cell_type": "markdown",
   "id": "650da036",
   "metadata": {},
   "source": [
    "7. What is the output of print(10 - 4 * 2) \n"
   ]
  },
  {
   "cell_type": "code",
   "execution_count": 7,
   "id": "9ca673c7",
   "metadata": {},
   "outputs": [
    {
     "name": "stdout",
     "output_type": "stream",
     "text": [
      "2\n"
     ]
    }
   ],
   "source": [
    "print(10-4*2)"
   ]
  },
  {
   "cell_type": "markdown",
   "id": "b45dbeec",
   "metadata": {},
   "source": [
    "8. What is the output of the expression print(-18 // 4)"
   ]
  },
  {
   "cell_type": "code",
   "execution_count": 8,
   "id": "ed0e3d5c",
   "metadata": {},
   "outputs": [
    {
     "name": "stdout",
     "output_type": "stream",
     "text": [
      "-5\n"
     ]
    }
   ],
   "source": [
    "print(-18//4)"
   ]
  },
  {
   "cell_type": "markdown",
   "id": "69ef5a10",
   "metadata": {},
   "source": [
    "9. What is the output of the following Python code? \n",
    "- x = 10  \n",
    "- y = 50  \n",
    "- if x ** 2 > 100 and y < 100:  \n",
    "    - print(x, y) "
   ]
  },
  {
   "cell_type": "code",
   "execution_count": 10,
   "id": "fca30382",
   "metadata": {},
   "outputs": [],
   "source": [
    "x = 10  \n",
    "y = 50  \n",
    "if x ** 2 > 100 and y < 100:  \n",
    "    print(x, y)"
   ]
  },
  {
   "cell_type": "markdown",
   "id": "8eb957de",
   "metadata": {},
   "source": [
    "10.  What is the output of the following code? \n",
    "- x = 100  \n",
    "- y = 50  \n",
    "- print(x and y) "
   ]
  },
  {
   "cell_type": "code",
   "execution_count": 11,
   "id": "ffa3cef4",
   "metadata": {},
   "outputs": [
    {
     "name": "stdout",
     "output_type": "stream",
     "text": [
      "50\n"
     ]
    }
   ],
   "source": [
    "x = 100  \n",
    "y = 50  \n",
    "print(x and y) "
   ]
  },
  {
   "cell_type": "markdown",
   "id": "fd00c50f",
   "metadata": {},
   "source": [
    "11.  In Python 3, what is the output of type(range(5)). (What data type it will \n",
    "return)."
   ]
  },
  {
   "cell_type": "code",
   "execution_count": 12,
   "id": "90bf1426",
   "metadata": {},
   "outputs": [
    {
     "data": {
      "text/plain": [
       "range"
      ]
     },
     "execution_count": 12,
     "metadata": {},
     "output_type": "execute_result"
    }
   ],
   "source": [
    "type(range(5))"
   ]
  },
  {
   "cell_type": "markdown",
   "id": "4eb9c936",
   "metadata": {},
   "source": [
    "12.  What is the data type of print(type(10))"
   ]
  },
  {
   "cell_type": "code",
   "execution_count": 13,
   "id": "c64b8aec",
   "metadata": {},
   "outputs": [
    {
     "name": "stdout",
     "output_type": "stream",
     "text": [
      "<class 'int'>\n"
     ]
    }
   ],
   "source": [
    "print(type(10))"
   ]
  },
  {
   "cell_type": "code",
   "execution_count": null,
   "id": "a328a399",
   "metadata": {},
   "outputs": [],
   "source": []
  }
 ],
 "metadata": {
  "kernelspec": {
   "display_name": "base",
   "language": "python",
   "name": "python3"
  },
  "language_info": {
   "codemirror_mode": {
    "name": "ipython",
    "version": 3
   },
   "file_extension": ".py",
   "mimetype": "text/x-python",
   "name": "python",
   "nbconvert_exporter": "python",
   "pygments_lexer": "ipython3",
   "version": "3.13.5"
  }
 },
 "nbformat": 4,
 "nbformat_minor": 5
}
