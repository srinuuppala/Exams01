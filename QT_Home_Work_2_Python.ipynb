{
 "cells": [
  {
   "cell_type": "markdown",
   "id": "ab417a65",
   "metadata": {},
   "source": [
    "1. Calculate the multiplication and sum of two numbers? "
   ]
  },
  {
   "cell_type": "code",
   "execution_count": 1,
   "id": "dbc04225",
   "metadata": {},
   "outputs": [
    {
     "name": "stdout",
     "output_type": "stream",
     "text": [
      "Multiplication: 50\n",
      "Sum: 15\n"
     ]
    }
   ],
   "source": [
    "a = 10\n",
    "b = 5\n",
    "\n",
    "print(\"Multiplication:\", a * b)\n",
    "print(\"Sum:\", a + b)"
   ]
  },
  {
   "cell_type": "markdown",
   "id": "f03f7c08",
   "metadata": {},
   "source": [
    "2. Create a string made of the first, middle and last character? \n",
    "- Expected Output: Quality Thought "
   ]
  },
  {
   "cell_type": "code",
   "execution_count": 3,
   "id": "97920cdd",
   "metadata": {},
   "outputs": [
    {
     "name": "stdout",
     "output_type": "stream",
     "text": [
      "QTt\n",
      "Quality Thought\n"
     ]
    }
   ],
   "source": [
    "word = \"QualityThought\"\n",
    "result = word[0] + word[len(word)//2] + word[-1]\n",
    "print(result)  \n",
    "\n",
    "\n",
    "print(\"Quality Thought\")"
   ]
  },
  {
   "cell_type": "markdown",
   "id": "26be5618",
   "metadata": {},
   "source": [
    "3. Use Python code to print out the following:  \n",
    "One half of 100 is 50. Use a variable to print out the number 50 "
   ]
  },
  {
   "cell_type": "code",
   "execution_count": 4,
   "id": "b761fc80",
   "metadata": {},
   "outputs": [
    {
     "name": "stdout",
     "output_type": "stream",
     "text": [
      "One half of 100 is 50\n"
     ]
    }
   ],
   "source": [
    "number = 100\n",
    "half = number // 2\n",
    "print(\"One half of\", number, \"is\", half)\n"
   ]
  },
  {
   "cell_type": "markdown",
   "id": "dfe05de8",
   "metadata": {},
   "source": [
    "4. Type these numbers after the equals sign for your myTotal variable:  \n",
    "    - myTotal = 4 + 2 * 8 - 6  \n",
    "        - Can you see why the answer you get when you run your code is 14? "
   ]
  },
  {
   "cell_type": "code",
   "execution_count": 6,
   "id": "414b1af5",
   "metadata": {},
   "outputs": [
    {
     "name": "stdout",
     "output_type": "stream",
     "text": [
      "14\n"
     ]
    }
   ],
   "source": [
    "myTotal = 4 + 2 * 8 - 6\n",
    "print(myTotal)   \n"
   ]
  },
  {
   "cell_type": "markdown",
   "id": "4b8ed464",
   "metadata": {},
   "source": [
    "5. If you are dividing, you can use two forward slashes to do floor division:  \n",
    "    - myTotal = 7 // 5  \n",
    "        - This will get you the answer of 1 rather than the 1.4 we had before. "
   ]
  },
  {
   "cell_type": "code",
   "execution_count": 7,
   "id": "1a0cfc1c",
   "metadata": {},
   "outputs": [
    {
     "name": "stdout",
     "output_type": "stream",
     "text": [
      "1\n"
     ]
    }
   ],
   "source": [
    "myTotal = 7 // 5\n",
    "print(myTotal)  "
   ]
  },
  {
   "cell_type": "markdown",
   "id": "f0107899",
   "metadata": {},
   "source": [
    "6. You can tell Python what you mean with round brackets, parentheses. Add \n",
    "two round brackets to your code:  \n",
    "    - myTotal = (8 + 2) * 10"
   ]
  },
  {
   "cell_type": "code",
   "execution_count": 8,
   "id": "363d61e6",
   "metadata": {},
   "outputs": [
    {
     "name": "stdout",
     "output_type": "stream",
     "text": [
      "100\n"
     ]
    }
   ],
   "source": [
    "myTotal = (8 + 2) * 10\n",
    "print(myTotal)  "
   ]
  },
  {
   "cell_type": "markdown",
   "id": "e1036229",
   "metadata": {},
   "source": [
    "7. For example, change your myTotal line to this:  \n",
    "    - myTotal = 8 + 2 * 10 "
   ]
  },
  {
   "cell_type": "code",
   "execution_count": 9,
   "id": "227ba3f8",
   "metadata": {},
   "outputs": [
    {
     "name": "stdout",
     "output_type": "stream",
     "text": [
      "28\n"
     ]
    }
   ],
   "source": [
    "myTotal = 8 + 2 * 10\n",
    "print(myTotal)  "
   ]
  },
  {
   "cell_type": "markdown",
   "id": "a4e6301b",
   "metadata": {},
   "source": [
    "8. Likewise, if we had this: \n",
    "    - myTotal = 8 + 10 / 2 \n",
    "- But if we add round brackets:  \n",
    "    - myTotal = (8 + 10) / 2"
   ]
  },
  {
   "cell_type": "markdown",
   "id": "6e313283",
   "metadata": {},
   "source": [
    "9. So, Python sees that there is 16 stored in the numberOne variable and 4 \n",
    "stored in the numberTwo variable. It adds these up and stores the result in \n",
    "the answer variable. "
   ]
  },
  {
   "cell_type": "code",
   "execution_count": 10,
   "id": "eb266ad6",
   "metadata": {},
   "outputs": [
    {
     "name": "stdout",
     "output_type": "stream",
     "text": [
      "13.0\n",
      "9.0\n"
     ]
    }
   ],
   "source": [
    "myTotal = 8 + 10 / 2\n",
    "print(myTotal)  \n",
    "\n",
    "myTotal = (8 + 10) / 2\n",
    "print(myTotal)   "
   ]
  },
  {
   "cell_type": "markdown",
   "id": "53584a24",
   "metadata": {},
   "source": [
    "10. Creating a program of strings with concatenation: \n",
    "- FirstName = “Quality” \n",
    "- SeconName = “Thought”"
   ]
  },
  {
   "cell_type": "code",
   "execution_count": 11,
   "id": "5f794f29",
   "metadata": {},
   "outputs": [
    {
     "name": "stdout",
     "output_type": "stream",
     "text": [
      "Full Name is: Quality Thought\n"
     ]
    }
   ],
   "source": [
    "FirstName = \"Quality\"\n",
    "SecondName = \"Thought\"\n",
    "\n",
    "fullName = FirstName + \" \" + SecondName\n",
    "print(\"Full Name is:\", fullName)"
   ]
  },
  {
   "cell_type": "code",
   "execution_count": null,
   "id": "216b4c36",
   "metadata": {},
   "outputs": [],
   "source": []
  }
 ],
 "metadata": {
  "kernelspec": {
   "display_name": "base",
   "language": "python",
   "name": "python3"
  },
  "language_info": {
   "codemirror_mode": {
    "name": "ipython",
    "version": 3
   },
   "file_extension": ".py",
   "mimetype": "text/x-python",
   "name": "python",
   "nbconvert_exporter": "python",
   "pygments_lexer": "ipython3",
   "version": "3.13.5"
  }
 },
 "nbformat": 4,
 "nbformat_minor": 5
}
