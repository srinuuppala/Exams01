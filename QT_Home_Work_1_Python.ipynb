{
 "cells": [
  {
   "cell_type": "markdown",
   "id": "4c3896c2",
   "metadata": {},
   "source": [
    "1. Write a program to get the following output. "
   ]
  },
  {
   "cell_type": "code",
   "execution_count": 1,
   "id": "3b7792fa",
   "metadata": {},
   "outputs": [
    {
     "name": "stdout",
     "output_type": "stream",
     "text": [
      "Hey there,\n",
      "I am full stack developer!\n"
     ]
    }
   ],
   "source": [
    "print(\"Hey there,\")\n",
    "print(\"I am full stack developer!\")"
   ]
  },
  {
   "cell_type": "markdown",
   "id": "8e75035e",
   "metadata": {},
   "source": [
    "2. Define Python variable, with your won Example?"
   ]
  },
  {
   "cell_type": "code",
   "execution_count": 2,
   "id": "096501fa",
   "metadata": {},
   "outputs": [
    {
     "name": "stdout",
     "output_type": "stream",
     "text": [
      "I am learning Python for 2 years.\n"
     ]
    }
   ],
   "source": [
    "# Example of variable\n",
    "language = \"Python\"\n",
    "experience = 2\n",
    "print(\"I am learning\", language, \"for\", experience, \"years.\")"
   ]
  },
  {
   "cell_type": "markdown",
   "id": "4613b468",
   "metadata": {},
   "source": [
    "3. Write a Python program to print 'Hello' on screen and then print your name \n",
    "on a separate line."
   ]
  },
  {
   "cell_type": "code",
   "execution_count": 3,
   "id": "03a7e462",
   "metadata": {},
   "outputs": [
    {
     "name": "stdout",
     "output_type": "stream",
     "text": [
      "Hello\n",
      "Srinu\n"
     ]
    }
   ],
   "source": [
    "print(\"Hello\")\n",
    "print(\"Srinu\")"
   ]
  },
  {
   "cell_type": "markdown",
   "id": "3c901f22",
   "metadata": {},
   "source": [
    "4. There is also a print() method, which is similar to println()."
   ]
  },
  {
   "cell_type": "code",
   "execution_count": null,
   "id": "e0b3ecb7",
   "metadata": {},
   "outputs": [
    {
     "name": "stdout",
     "output_type": "stream",
     "text": [
      "Hello World\n"
     ]
    }
   ],
   "source": [
    "print(\"Hello\", end=\"\") \n",
    "print(\" World\")         \n"
   ]
  },
  {
   "cell_type": "markdown",
   "id": "8e8b1024",
   "metadata": {},
   "source": [
    "5. Write a program to get the following output, by using the \\t. \n",
    "   - Output: \n",
    "       - Raja Shekhar \n",
    "       - Pavan Surya "
   ]
  },
  {
   "cell_type": "code",
   "execution_count": 5,
   "id": "32b2af37",
   "metadata": {},
   "outputs": [
    {
     "name": "stdout",
     "output_type": "stream",
     "text": [
      "Raja\tShekhar\n",
      "Pavan\tSurya\n"
     ]
    }
   ],
   "source": [
    "print(\"Raja\\tShekhar\")\n",
    "print(\"Pavan\\tSurya\")"
   ]
  },
  {
   "cell_type": "markdown",
   "id": "38aa3e62",
   "metadata": {},
   "source": [
    "6. Write a program for creating a variable with the integer numbers and call \n",
    "those variables in the print method. \n",
    "    - Output: \n",
    "        - My First Number is: 10 \n",
    "        - My Second Number is: 20 \n",
    "        - My Second Number is: 30 "
   ]
  },
  {
   "cell_type": "code",
   "execution_count": 6,
   "id": "9234b33a",
   "metadata": {},
   "outputs": [
    {
     "name": "stdout",
     "output_type": "stream",
     "text": [
      "My First Number is: 10\n",
      "My Second Number is: 20\n",
      "My Third Number is: 30\n"
     ]
    }
   ],
   "source": [
    "num1 = 10\n",
    "num2 = 20\n",
    "num3 = 30\n",
    "\n",
    "print(\"My First Number is:\", num1)\n",
    "print(\"My Second Number is:\", num2)\n",
    "print(\"My Third Number is:\", num3)\n"
   ]
  },
  {
   "cell_type": "markdown",
   "id": "d35eb840",
   "metadata": {},
   "source": [
    "7. Write a program for creating a variable as given below: \n",
    "    - Input:  \n",
    "        - int java = 90; \n",
    "        - int python = 80; \n",
    "        - int database = 70; \n",
    "        - int WebDevelopment = 60; \n",
    "        - int DotNet = 50; \n"
   ]
  },
  {
   "cell_type": "code",
   "execution_count": 7,
   "id": "641b4f94",
   "metadata": {},
   "outputs": [
    {
     "name": "stdout",
     "output_type": "stream",
     "text": [
      "My Java Marks is: 90\n",
      "My Python Marks is: 80\n",
      "My Database Marks is: 70\n",
      "My Web Development is: 60\n",
      "My DotNet Marks is: 50\n"
     ]
    }
   ],
   "source": [
    "java = 90\n",
    "python = 80\n",
    "database = 70\n",
    "web_development = 60\n",
    "dotnet = 50\n",
    "\n",
    "print(\"My Java Marks is:\", java)\n",
    "print(\"My Python Marks is:\", python)\n",
    "print(\"My Database Marks is:\", database)\n",
    "print(\"My Web Development is:\", web_development)\n",
    "print(\"My DotNet Marks is:\", dotnet)\n"
   ]
  },
  {
   "cell_type": "markdown",
   "id": "a53805c4",
   "metadata": {},
   "source": [
    "8. Write a program to print the given output? \n",
    "        - Input: \n",
    "            - int a = 10, b = 20, c= 30; \n",
    "            // Example of multiple initialization "
   ]
  },
  {
   "cell_type": "code",
   "execution_count": 8,
   "id": "c4ce2c97",
   "metadata": {},
   "outputs": [
    {
     "name": "stdout",
     "output_type": "stream",
     "text": [
      "a = 10\n",
      "b = 20\n",
      "c = 30\n"
     ]
    }
   ],
   "source": [
    "a, b, c = 10, 20, 30\n",
    "print(\"a =\", a)\n",
    "print(\"b =\", b)\n",
    "print(\"c =\", c)"
   ]
  },
  {
   "cell_type": "markdown",
   "id": "12128a83",
   "metadata": {},
   "source": [
    "9. Write a program to print the given output? "
   ]
  },
  {
   "cell_type": "code",
   "execution_count": 9,
   "id": "5d55c0c8",
   "metadata": {},
   "outputs": [
    {
     "name": "stdout",
     "output_type": "stream",
     "text": [
      "++++++\n",
      "@@@@@@\n",
      "******\n",
      "######\n"
     ]
    }
   ],
   "source": [
    "print(\"++++++\")\n",
    "print(\"@@@@@@\")\n",
    "print(\"******\")\n",
    "print(\"######\")\n"
   ]
  },
  {
   "cell_type": "markdown",
   "id": "79788012",
   "metadata": {},
   "source": [
    "10. What is a Programming Language?\n",
    "\n",
    "A programming language is a set of instructions (rules + syntax) that allows humans to communicate with computers to perform specific tasks.\n",
    "Examples: Python, Java, C, C++, JavaScript."
   ]
  },
  {
   "cell_type": "markdown",
   "id": "232d36e3",
   "metadata": {},
   "source": [
    "11. What is a Language in Computers?\n",
    "\n",
    "In computers, a language is a system of communication used to give instructions to the computer.\n",
    "- There are 3 types:\n",
    "\n",
    "1. Machine Language (0s and 1s – binary code)\n",
    "\n",
    "2. Assembly Language (short mnemonics like MOV A, B)\n",
    "\n",
    "3. High-Level Language (Python, Java, C++ → human-friendly, needs compiler/interpreter)."
   ]
  },
  {
   "cell_type": "markdown",
   "id": "ae22c278",
   "metadata": {},
   "source": [
    "12. How many types of communications are there in computer language?\n",
    "\n",
    "There are mainly two types of communication in computer language:\n",
    "\n",
    "1. Low-Level Communication → Machine Language & Assembly Language (closer to hardware).\n",
    "\n",
    "2. High-Level Communication → Programming Languages (Python, Java, etc., closer to humans)."
   ]
  },
  {
   "cell_type": "markdown",
   "id": "3d9771f0",
   "metadata": {},
   "source": [
    "13. In Python, a variable must be declared before it is assigned a value: \n",
    "- In Python, you don’t declare variables separately (like in C/Java).\n",
    "\n",
    "- You just assign a value directly, and Python automatically creates the variable."
   ]
  },
  {
   "cell_type": "markdown",
   "id": "eb08312f",
   "metadata": {},
   "source": [
    "Example:"
   ]
  },
  {
   "cell_type": "code",
   "execution_count": 11,
   "id": "404eaadf",
   "metadata": {},
   "outputs": [
    {
     "name": "stdout",
     "output_type": "stream",
     "text": [
      "10 Hello\n"
     ]
    }
   ],
   "source": [
    "x = 10    \n",
    "y = \"Hello\"\n",
    "print(x, y)"
   ]
  },
  {
   "cell_type": "markdown",
   "id": "f9e3865e",
   "metadata": {},
   "source": [
    "14. Define two variables, j and k, with values 37 and 52 respectively. \n",
    "- a) What is the sum of `j` and `k`? \n",
    "- b) Now re-assign `j` and `k` to have the vales 8 and 3 respectively. Re-use \n",
    "your code from the editor to determine their sum and product. \n"
   ]
  },
  {
   "cell_type": "code",
   "execution_count": 12,
   "id": "7360bf88",
   "metadata": {},
   "outputs": [
    {
     "name": "stdout",
     "output_type": "stream",
     "text": [
      "Sum = 89\n",
      "Sum = 11\n",
      "Product = 24\n"
     ]
    }
   ],
   "source": [
    "# First case\n",
    "j, k = 37, 52\n",
    "print(\"Sum =\", j + k)\n",
    "\n",
    "# Re-assign values\n",
    "j, k = 8, 3\n",
    "print(\"Sum =\", j + k)\n",
    "print(\"Product =\", j * k)\n"
   ]
  },
  {
   "cell_type": "markdown",
   "id": "070faad9",
   "metadata": {},
   "source": [
    "15. Create a program to with the given variables and provide the datatypes \n",
    "according to the given values."
   ]
  },
  {
   "cell_type": "code",
   "execution_count": 13,
   "id": "7834c016",
   "metadata": {},
   "outputs": [
    {
     "name": "stdout",
     "output_type": "stream",
     "text": [
      "<class 'str'>\n",
      "<class 'str'>\n",
      "<class 'str'>\n",
      "<class 'str'>\n",
      "<class 'int'>\n",
      "<class 'int'>\n",
      "<class 'int'>\n",
      "<class 'int'>\n",
      "<class 'int'>\n",
      "<class 'float'>\n"
     ]
    }
   ],
   "source": [
    "FirstName = \"Raja\"\n",
    "LastName = \"Shekhar\"\n",
    "PhoneNumber = \"9703971577\"\n",
    "Email = \"raj@peramsons.com\"\n",
    "JavaMarks = 70\n",
    "PythonMarks = 90\n",
    "Database = 90\n",
    "WebDevelopment = 90\n",
    "TotalMarks = 340\n",
    "Average = 85.00\n",
    "\n",
    "print(type(FirstName))\n",
    "print(type(LastName))\n",
    "print(type(PhoneNumber))\n",
    "print(type(Email))\n",
    "print(type(JavaMarks))\n",
    "print(type(PythonMarks))\n",
    "print(type(Database))\n",
    "print(type(WebDevelopment))\n",
    "print(type(TotalMarks))\n",
    "print(type(Average))\n"
   ]
  },
  {
   "cell_type": "code",
   "execution_count": null,
   "id": "849f16cb",
   "metadata": {},
   "outputs": [],
   "source": []
  }
 ],
 "metadata": {
  "kernelspec": {
   "display_name": "base",
   "language": "python",
   "name": "python3"
  },
  "language_info": {
   "codemirror_mode": {
    "name": "ipython",
    "version": 3
   },
   "file_extension": ".py",
   "mimetype": "text/x-python",
   "name": "python",
   "nbconvert_exporter": "python",
   "pygments_lexer": "ipython3",
   "version": "3.13.5"
  }
 },
 "nbformat": 4,
 "nbformat_minor": 5
}
