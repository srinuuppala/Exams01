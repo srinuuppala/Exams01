{
 "cells": [
  {
   "cell_type": "markdown",
   "id": "c5861620",
   "metadata": {},
   "source": [
    "1. Type here. Assign a number to the variable: glass_of_water \n",
    "- glass_of_water= \n",
    "- print(\"I drank\", glass_of_water, \"glasses of water today.\") "
   ]
  },
  {
   "cell_type": "code",
   "execution_count": 1,
   "id": "1f2545c9",
   "metadata": {},
   "outputs": [
    {
     "name": "stdout",
     "output_type": "stream",
     "text": [
      "I drank 10 glasses of water today.\n"
     ]
    }
   ],
   "source": [
    "glass_of_water= 10 \n",
    "print(\"I drank\", glass_of_water, \"glasses of water today.\") "
   ]
  },
  {
   "cell_type": "markdown",
   "id": "bc1986fe",
   "metadata": {},
   "source": [
    "2. Fill the print function so it prints glass_of_water  \n",
    "- glass_of_water=3  \n",
    "- glass_of_water=glass_of_water + 1  \n",
    "- print()"
   ]
  },
  {
   "cell_type": "code",
   "execution_count": null,
   "id": "3f16bbd7",
   "metadata": {},
   "outputs": [
    {
     "name": "stdout",
     "output_type": "stream",
     "text": [
      "4\n"
     ]
    }
   ],
   "source": [
    "glass_of_water=3  \n",
    "glass_of_water=glass_of_water + 1  \n",
    "print(glass_of_water)"
   ]
  },
  {
   "cell_type": "markdown",
   "id": "11f3aefe",
   "metadata": {},
   "source": [
    "3. Assign an integer to the variable, then print it.  \n",
    "- men_stepped_on_the_moon=  \n",
    "- print() "
   ]
  },
  {
   "cell_type": "code",
   "execution_count": 5,
   "id": "45b4e77d",
   "metadata": {},
   "outputs": [
    {
     "name": "stdout",
     "output_type": "stream",
     "text": [
      "10\n"
     ]
    }
   ],
   "source": [
    "men_stepped_on_the_moon=  10\n",
    "print(men_stepped_on_the_moon) "
   ]
  },
  {
   "cell_type": "markdown",
   "id": "09c1402f",
   "metadata": {},
   "source": [
    "4. Type a couple of words or a short sentence for your variable, then print \n",
    "it.  \n",
    "- my_reason_for_coding=\n",
    "- print() "
   ]
  },
  {
   "cell_type": "code",
   "execution_count": 6,
   "id": "816df5a7",
   "metadata": {},
   "outputs": [
    {
     "name": "stdout",
     "output_type": "stream",
     "text": [
      "i am srinu\n"
     ]
    }
   ],
   "source": [
    "my_resone_for_coding = \"i am srinu\"\n",
    "print(my_resone_for_coding)"
   ]
  },
  {
   "cell_type": "markdown",
   "id": "68fd6178",
   "metadata": {},
   "source": [
    "5. Assign a float with 2 decimals to the variable below. If you don't wan't to \n",
    "search the value you can check out Hint 1.  \n",
    "- global_mean_sea_level_2018=21  \n",
    "- global_mean_sea_level_2018=  \n",
    "- print(global_mean_sea_level_2018)"
   ]
  },
  {
   "cell_type": "code",
   "execution_count": 7,
   "id": "a142b3b4",
   "metadata": {},
   "outputs": [
    {
     "name": "stdout",
     "output_type": "stream",
     "text": [
      "21.32\n"
     ]
    }
   ],
   "source": [
    "golobal_mean_sea_level_2018=21\n",
    "golobal_mean_sea_level_2018= 21.32\n",
    "print(golobal_mean_sea_level_2018)"
   ]
  },
  {
   "cell_type": "markdown",
   "id": "7ddf790c",
   "metadata": {},
   "source": [
    "6. Assign True or False to the variable below then print it.  \n",
    "- staying_alive=  \n",
    "- print(staying_alive)"
   ]
  },
  {
   "cell_type": "code",
   "execution_count": 9,
   "id": "f6ff76ed",
   "metadata": {},
   "outputs": [
    {
     "name": "stdout",
     "output_type": "stream",
     "text": [
      "True\n"
     ]
    }
   ],
   "source": [
    "staying_alive=  True\n",
    "print(staying_alive)"
   ]
  },
  {
   "cell_type": "markdown",
   "id": "bdd3a247",
   "metadata": {},
   "source": [
    "7. Type a couple of different values inside the print function. Make sure \n",
    "they are separated by commas.  \n",
    "- print(\"\") "
   ]
  },
  {
   "cell_type": "code",
   "execution_count": 10,
   "id": "e36b3702",
   "metadata": {},
   "outputs": [
    {
     "name": "stdout",
     "output_type": "stream",
     "text": [
      "hi, hello, how are you my name is srinu\n"
     ]
    }
   ],
   "source": [
    "print(\"hi, hello, how are you\",\"my name is srinu\")"
   ]
  },
  {
   "cell_type": "markdown",
   "id": "c6453ede",
   "metadata": {},
   "source": [
    "8. You can assign \"Hello World!\" to the variable.  \n",
    "- my_text=\"\" \n",
    "- print(my_text) "
   ]
  },
  {
   "cell_type": "code",
   "execution_count": 11,
   "id": "08f308bb",
   "metadata": {},
   "outputs": [
    {
     "name": "stdout",
     "output_type": "stream",
     "text": [
      "i am learning python\n"
     ]
    }
   ],
   "source": [
    "my_text=\"i am learning python\" \n",
    "print(my_text) "
   ]
  },
  {
   "cell_type": "markdown",
   "id": "355f6d13",
   "metadata": {},
   "source": [
    "9. Replace \"type here\" with \"Hello World!\"  \n",
    "- print(\"type here\")"
   ]
  },
  {
   "cell_type": "code",
   "execution_count": 12,
   "id": "d84db932",
   "metadata": {},
   "outputs": [
    {
     "name": "stdout",
     "output_type": "stream",
     "text": [
      "Hello Worlde!\n"
     ]
    }
   ],
   "source": [
    "print(\"Hello Worlde!\")"
   ]
  },
  {
   "cell_type": "markdown",
   "id": "0e6fa08b",
   "metadata": {},
   "source": [
    "10. In Python, a variable must be declared before it is assigned a value: \n",
    "- A. True \n",
    "- B. False "
   ]
  },
  {
   "cell_type": "code",
   "execution_count": 13,
   "id": "1a3ec184",
   "metadata": {},
   "outputs": [],
   "source": [
    "# A. True"
   ]
  },
  {
   "cell_type": "markdown",
   "id": "8f277272",
   "metadata": {},
   "source": [
    "11. Which of the following statements assigns the value 100 to the variable x \n",
    "in Python: \n",
    "- A. x := 100 \n",
    "- B. let x = 100 \n",
    "- C. x << 100 \n",
    "- D. x = 100 \n",
    "- E. x ← 100"
   ]
  },
  {
   "cell_type": "code",
   "execution_count": 14,
   "id": "3986faad",
   "metadata": {},
   "outputs": [
    {
     "name": "stdout",
     "output_type": "stream",
     "text": [
      "100\n"
     ]
    }
   ],
   "source": [
    "# D\n",
    "x= 100\n",
    "print(x)"
   ]
  },
  {
   "cell_type": "markdown",
   "id": "d9281692",
   "metadata": {},
   "source": [
    "12.  Which of the following are valid Python variable names: \n",
    "- A. Age \n",
    "- B. home_address \n",
    "- C. ver1.3 \n",
    "- D. return \n",
    "- E. 4square \n",
    "- F. route66 \n"
   ]
  },
  {
   "cell_type": "code",
   "execution_count": 18,
   "id": "79234489",
   "metadata": {},
   "outputs": [],
   "source": [
    "age = 25\n",
    "home_address = \"123 Main St\"\n",
    "route66 = \"Route 66\"\n",
    "#ver1.3 = \"Version 1.3\"             \n",
    "# return = \"Return Value\"\n",
    "# 4square = \"4Square\"\n",
    "route66 = \"Route 66\""
   ]
  },
  {
   "cell_type": "markdown",
   "id": "5694c3e0",
   "metadata": {},
   "source": [
    "13. You are reading Python code, and these statements appear scattered in \n",
    "different locations throughout the code: \n",
    "- employeenumber = 4398  \n",
    ".  \n",
    ".  \n",
    "- EmployeeNumber = 4398  \n",
    ".  \n",
    ".  \n",
    "- employeeNumber = 4398 \n",
    "- A. These statements refer to different variables. \n",
    "- B. These statements refer to the same variable."
   ]
  },
  {
   "cell_type": "code",
   "execution_count": 19,
   "id": "2034c67e",
   "metadata": {},
   "outputs": [],
   "source": [
    "# B. These statements refer to the same variable."
   ]
  },
  {
   "cell_type": "markdown",
   "id": "753c7a9e",
   "metadata": {},
   "source": [
    "14.  Which of the following would give a syntax error? \n",
    "- A. x, y, z = 10, 20, 30 \n",
    "- B. x, y, z = 10, ‘Hello’, True \n",
    "- C. x = 10, y =’Hello’, z = True \n",
    "- D. None of the above "
   ]
  },
  {
   "cell_type": "code",
   "execution_count": 20,
   "id": "48c9828d",
   "metadata": {},
   "outputs": [],
   "source": [
    "# D"
   ]
  },
  {
   "cell_type": "markdown",
   "id": "f6d341cc",
   "metadata": {},
   "source": [
    "15. What is the value of the following arithmetic expression 5*2**10?"
   ]
  },
  {
   "cell_type": "code",
   "execution_count": 21,
   "id": "98f63bee",
   "metadata": {},
   "outputs": [
    {
     "name": "stdout",
     "output_type": "stream",
     "text": [
      "5120\n"
     ]
    }
   ],
   "source": [
    "print(5*2**10)"
   ]
  },
  {
   "cell_type": "code",
   "execution_count": null,
   "id": "92aa3aa9",
   "metadata": {},
   "outputs": [],
   "source": []
  }
 ],
 "metadata": {
  "kernelspec": {
   "display_name": "base",
   "language": "python",
   "name": "python3"
  },
  "language_info": {
   "codemirror_mode": {
    "name": "ipython",
    "version": 3
   },
   "file_extension": ".py",
   "mimetype": "text/x-python",
   "name": "python",
   "nbconvert_exporter": "python",
   "pygments_lexer": "ipython3",
   "version": "3.13.5"
  }
 },
 "nbformat": 4,
 "nbformat_minor": 5
}
